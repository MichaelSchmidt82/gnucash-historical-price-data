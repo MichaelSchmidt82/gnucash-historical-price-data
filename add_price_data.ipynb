{
  "cells": [
    {
      "cell_type": "markdown",
      "source": [
        "# gnucash-historical-price-data\n",
        "_**gnucash:**_ v3.8  \n",
        "_**format:**_ XML, XML Compressed  \n",
        "\n",
        "A script to patch existing gnucash ledgers with stock price data (from the internet).\n",
        "\n",
        "Script assumes the following:\n",
        "   \n",
        " - currency commodities already exist in book\n",
        " - security commodities already exist in book with correct exchange\n",
        " - uniform denominations for all equities (i.e 1/10,000)"
      ],
      "metadata": {}
    },
    {
      "cell_type": "code",
      "source": [
        "from copy import copy\n",
        "from datetime import datetime, date\n",
        "import gzip\n",
        "from urllib.parse import urlencode\n",
        "import uuid\n",
        "\n",
        "from bs4 import BeautifulSoup, FeatureNotFound\n",
        "import pandas as pd"
      ],
      "outputs": [],
      "execution_count": 6,
      "metadata": {}
    },
    {
      "cell_type": "markdown",
      "source": [
        "## Configuration:"
      ],
      "metadata": {}
    },
    {
      "cell_type": "code",
      "source": [
        "EXT = '.gnucash'\n",
        "\n",
        "book = f'gen-ledger-2019{EXT}'\n",
        "\n",
        "target = book\n",
        "# target = f'test-with-history{EXT}'\n",
        "\n",
        "start_date = datetime.strptime('2019-01-01', '%Y-%m-%d')\n",
        "end_date = datetime.today()\n",
        "interval = '1d' ## one of ['1d', '5d', '1wk', '1mo', '3mo']\n",
        "\n",
        "unit_sz = 1000000\n",
        "\n",
        "root_url = 'https://query1.finance.yahoo.com/v7/finance/download/'\n",
        "portfolio = [\n",
        "    {\n",
        "        'XCHG': 'AMEX',\n",
        "        'SYM': 'DTD'\n",
        "    }, \n",
        "    {\n",
        "        'XCHG': 'NYSE',\n",
        "        'SYM': 'TMFC'\n",
        "    }, \n",
        "    {\n",
        "        'XCHG': 'AMEX',\n",
        "        'SYM': 'TSLA'\n",
        "    }\n",
        "]"
      ],
      "outputs": [],
      "execution_count": 8,
      "metadata": {}
    },
    {
      "cell_type": "markdown",
      "source": [
        "## Patch:"
      ],
      "metadata": {}
    },
    {
      "cell_type": "code",
      "source": [
        "compressed = False\n",
        "\n",
        "try:\n",
        "    with gzip.open(book, 'rb') as buff:\n",
        "        book = BeautifulSoup(buff.read(), 'lxml-xml')\n",
        "        compressed = True\n",
        "except gzip.BadGzipFile as bgf:\n",
        "    try:\n",
        "        with open(book, 'rb') as buff:\n",
        "            book = BeautifulSoup(buff.read(), 'lxml-xml')\n",
        "    except Exception as exc:\n",
        "        raise exc\n",
        "\n",
        "pricedb = book.find('gnc:pricedb')\n",
        "\n",
        "start_ts = int(datetime.timestamp(start_date))\n",
        "end_ts = int(datetime.timestamp(end_date))\n",
        "\n",
        "payload = {\n",
        "    'period1': start_ts,\n",
        "    'period2': end_ts,\n",
        "    'interval': interval,\n",
        "    'events': 'history'\n",
        "}\n",
        "\n",
        "assert payload['interval'] in ('1d', '5d', '1wk', '1mo', '3mo'), 'Invalid interval'\n",
        "assert pricedb.get('version') == '1', 'Unsupported Version'\n",
        "assert payload['period1'] < payload['period2'], '\\'End\\' date must be before \\'Start\\' date'\n",
        "assert payload['period2'] < datetime.timestamp(datetime.today()), '\\'End\\' date must be in the past'"
      ],
      "outputs": [],
      "execution_count": 9,
      "metadata": {}
    },
    {
      "cell_type": "code",
      "source": [
        "hist = []\n",
        "template = pricedb.price\n",
        "for stock in portfolio:\n",
        "    data = pd.read_csv(f'{root_url}{stock[\"SYM\"]}?{urlencode(payload)}')\n",
        "    for date, price in zip(data[\"Date\"], data[\"Close\"]):\n",
        "        record = copy(template)  \n",
        "        record.find('price:id').string = str(uuid.uuid4()).replace('-', '')\n",
        "        record.find('cmdty:id').string = stock['SYM']\n",
        "        record.find('cmdty:space').string = stock['XCHG']\n",
        "        record.find('ts:date').string = f'{date} 17:00:00 +0000'\n",
        "        record.find('price:value').string = f'{int(price * unit_sz)}/{unit_sz}'\n",
        "        hist.append(record)\n",
        "        \n",
        "old_data = [datum.extract() for datum in pricedb.findAll('price')]\n",
        "\n",
        "for entry in hist:\n",
        "    pricedb.append(entry)\n",
        "\n",
        "book.findAll('gnc:count-data', {'cd:type' : 'price'}).string = len(hist)\n",
        "assert len([item for item in pricedb.find_all('price')]) == len(hist)    \n",
        "\n",
        "if compressed:\n",
        "    with gzip.open(target, 'w') as buff:\n",
        "        buff.write(bytes(str(book), 'UTF-8'))\n",
        "else:\n",
        "    with open(target, \"w\") as buff:\n",
        "        buff.write(str(book))\n",
        "print(\"Patch completed.\")"
      ],
      "outputs": [
        {
          "output_type": "stream",
          "name": "stdout",
          "text": [
            "Patch completed.\n"
          ]
        }
      ],
      "execution_count": 10,
      "metadata": {}
    },
    {
      "cell_type": "code",
      "source": [],
      "outputs": [],
      "execution_count": null,
      "metadata": {}
    }
  ],
  "metadata": {
    "kernelspec": {
      "name": "gnucash-historical-price-data",
      "language": "python",
      "display_name": "Python (gnucash-historical-price-data)"
    },
    "language_info": {
      "name": "python",
      "version": "3.8.1",
      "mimetype": "text/x-python",
      "codemirror_mode": {
        "name": "ipython",
        "version": 3
      },
      "pygments_lexer": "ipython3",
      "nbconvert_exporter": "python",
      "file_extension": ".py"
    },
    "kernel_info": {
      "name": "gnucash-historical-price-data"
    },
    "nteract": {
      "version": "0.15.0"
    }
  },
  "nbformat": 4,
  "nbformat_minor": 4
}
