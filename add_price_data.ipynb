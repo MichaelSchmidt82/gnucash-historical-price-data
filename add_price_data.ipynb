{
 "cells": [
  {
   "cell_type": "markdown",
   "metadata": {},
   "source": [
    "# gnucash-historical-price-data\n",
    "_**gnucash:**_ v3.8  \n",
    "_**format:**_ XML, XML Compressed  \n",
    "\n",
    "A script to patch existing gnucash ledgers with stock price data.\n",
    "\n",
    "Script assumes the following:\n",
    "   \n",
    " - currencies commodities already exist in book\n",
    " - securities commodities already exist in book\n",
    " - uniform denominations"
   ]
  },
  {
   "cell_type": "code",
   "execution_count": 7,
   "metadata": {},
   "outputs": [],
   "source": [
    "from copy import copy\n",
    "from datetime import datetime, date\n",
    "import gzip\n",
    "from urllib.parse import urlencode\n",
    "import uuid\n",
    "\n",
    "from bs4 import BeautifulSoup\n",
    "import pandas as pd"
   ]
  },
  {
   "cell_type": "markdown",
   "metadata": {},
   "source": [
    "## Configuration:"
   ]
  },
  {
   "cell_type": "code",
   "execution_count": 8,
   "metadata": {},
   "outputs": [],
   "source": [
    "EXT = '.gnucash'\n",
    "\n",
    "book = f'sandbox{EXT}'\n",
    "target = f'{book}-with-history{EXT}'\n",
    "\n",
    "compressed = False\n",
    "\n",
    "start_date = datetime.strptime('2019-01-01', '%Y-%m-%d')\n",
    "end_date = datetime.today()\n",
    "interval = '1d' ## one of ['1d', '5d', '1wk', '1mo', '3mo']\n",
    "\n",
    "unit_sz = 1000000\n",
    "\n",
    "root_url = 'https://query1.finance.yahoo.com/v7/finance/download/'\n",
    "portfolio = [\n",
    "    {\n",
    "        'XCHG': 'AMEX',\n",
    "        'SYM': 'DTD'\n",
    "    }, \n",
    "    {\n",
    "        'XCHG': 'NYSE',\n",
    "        'SYM': 'TMFC'\n",
    "    }, \n",
    "    {\n",
    "        'XCHG': 'AMEX',\n",
    "        'SYM': 'TSLA'\n",
    "    }\n",
    "]"
   ]
  },
  {
   "cell_type": "markdown",
   "metadata": {},
   "source": [
    "## Patch:"
   ]
  },
  {
   "cell_type": "code",
   "execution_count": 9,
   "metadata": {},
   "outputs": [],
   "source": [
    "if compressed:\n",
    "    with gzip.open(book, 'rb') as buff:\n",
    "        book = BeautifulSoup(buff.read(), 'lxml-xml')\n",
    "else:\n",
    "    with open(book, 'rb') as buff:\n",
    "        book = BeautifulSoup(buff.read(), 'lxml-xml')\n",
    "\n",
    "pricedb = book.find('gnc:pricedb')\n",
    "\n",
    "start_ts = int(datetime.timestamp(start_date))\n",
    "end_ts = int(datetime.timestamp(end_date))\n",
    "\n",
    "payload = {\n",
    "    'period1': start_ts,\n",
    "    'period2': end_ts,\n",
    "    'interval': interval,\n",
    "    'events': 'history'\n",
    "}\n",
    "\n",
    "assert payload['interval'] in ('1d', '5d', '1wk', '1mo', '3mo')\n",
    "assert pricedb.get('version') == '1'\n",
    "assert start_ts < end_ts"
   ]
  },
  {
   "cell_type": "code",
   "execution_count": 10,
   "metadata": {},
   "outputs": [],
   "source": [
    "hist = []\n",
    "template = pricedb.price\n",
    "for stock in portfolio:\n",
    "    data = pd.read_csv(f'{root_url}{stock[\"SYM\"]}?{urlencode(payload)}')\n",
    "    for date, price in zip(data[\"Date\"], data[\"Close\"]):\n",
    "        record = copy(template)  \n",
    "        record.find('price:id').string = str(uuid.uuid4()).replace('-', '')\n",
    "        record.find('cmdty:id').string = stock['SYM']\n",
    "        record.find('cmdty:space').string = stock['XCHG']\n",
    "        record.find('ts:date').string = f'{date} 17:00:00 +0000'\n",
    "        record.find('price:value').string = f'{int(price * unit_sz)}/{unit_sz}'\n",
    "        hist.append(record)\n",
    "        \n",
    "old_data = [datum.extract() for datum in pricedb.findAll('price')]\n",
    "for entry in hist:\n",
    "    pricedb.append(entry)\n",
    "    \n",
    "assert len([item for item in pricedb.find_all('price')]) == len(hist)\n",
    "\n",
    "if compressed:\n",
    "    with gzip.open(target, 'w') as buff:\n",
    "        buff.write(bytes(str(book), 'UTF-8'))\n",
    "else:\n",
    "    with open(target, \"w\") as buff:\n",
    "        buff.write(str(book))"
   ]
  }
 ],
 "metadata": {
  "kernelspec": {
   "display_name": "Python (data-sci)",
   "language": "python",
   "name": "data-sci"
  },
  "language_info": {
   "codemirror_mode": {
    "name": "ipython",
    "version": 3
   },
   "file_extension": ".py",
   "mimetype": "text/x-python",
   "name": "python",
   "nbconvert_exporter": "python",
   "pygments_lexer": "ipython3",
   "version": "3.8.1"
  }
 },
 "nbformat": 4,
 "nbformat_minor": 4
}
