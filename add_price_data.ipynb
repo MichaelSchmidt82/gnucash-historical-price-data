{
 "cells": [
  {
   "cell_type": "markdown",
   "metadata": {},
   "source": [
    "# gnucash-historical-price-data\n",
    "_**gnucash:**_ v3.8\n",
    "_**format:**_ XML, XML Compressed  \n",
    "\n",
    "A script to patch existing gnucash ledgers with stock price data (from the internet).\n",
    "\n",
    "Script assumes the following:\n",
    "   \n",
    " - currency commodities already exist in book\n",
    " - security commodities already exist in book with correct exchange\n",
    " - uniform denominations for all equities (i.e 1/10,000)"
   ]
  },
  {
   "cell_type": "code",
   "execution_count": 7,
   "metadata": {
    "ExecuteTime": {
     "end_time": "2024-03-19T23:47:40.664724741Z",
     "start_time": "2024-03-19T23:47:40.623992403Z"
    }
   },
   "outputs": [],
   "source": [
    "from copy import copy\n",
    "from datetime import datetime, date, timedelta\n",
    "import gzip\n",
    "from urllib.parse import urlencode\n",
    "import uuid\n",
    "\n",
    "from bs4 import BeautifulSoup, FeatureNotFound\n",
    "import pandas as pd"
   ]
  },
  {
   "cell_type": "markdown",
   "metadata": {},
   "source": [
    "## Configuration:"
   ]
  },
  {
   "cell_type": "code",
   "execution_count": 8,
   "metadata": {
    "ExecuteTime": {
     "end_time": "2024-03-19T23:48:05.145829643Z",
     "start_time": "2024-03-19T23:48:05.144509614Z"
    }
   },
   "outputs": [],
   "source": [
    "\n",
    "book = f'../Financial/michael-2022-2023.gnucash'\n",
    "\n",
    "target = book\n",
    "# target = f'test-with-history{EXT}'\n",
    "\n",
    "start_date = datetime.strptime('2019-01-01', '%Y-%m-%d')\n",
    "end_date = datetime.today() - timedelta(days=9)\n",
    "interval = '1d' ## one of ['1d', '5d', '1wk', '1mo', '3mo']\n",
    "\n",
    "unit_sz = 1000000\n",
    "\n",
    "root_url = 'https://query1.finance.yahoo.com/v7/finance/download/'\n",
    "portfolio = []"
   ]
  },
  {
   "cell_type": "markdown",
   "metadata": {},
   "source": [
    "## Patch:"
   ]
  },
  {
   "cell_type": "code",
   "execution_count": 9,
   "metadata": {
    "ExecuteTime": {
     "end_time": "2024-03-19T23:48:20.912797333Z",
     "start_time": "2024-03-19T23:48:14.768537426Z"
    }
   },
   "outputs": [],
   "source": [
    "compressed = True\n",
    "\n",
    "try:\n",
    "    with gzip.open(book, 'rb') as buff:\n",
    "        book = BeautifulSoup(buff.read(), 'lxml-xml')\n",
    "        compressed = True\n",
    "except gzip.BadGzipFile as bgf:\n",
    "    try:\n",
    "        with open(book, 'rb') as buff:\n",
    "            book = BeautifulSoup(buff.read(), 'lxml-xml')\n",
    "    except Exception as exc:\n",
    "        raise exc\n",
    "\n",
    "pricedb = book.find('gnc:pricedb')\n",
    "\n",
    "start_ts = int(datetime.timestamp(start_date))\n",
    "end_ts = int(datetime.timestamp(end_date))\n",
    "\n",
    "payload = {\n",
    "    'period1': start_ts,\n",
    "    'period2': end_ts,\n",
    "    'interval': interval,\n",
    "    'events': 'history'\n",
    "}\n",
    "\n",
    "assert payload['interval'] in ('1d', '5d', '1wk', '1mo', '3mo'), 'Invalid interval'\n",
    "assert pricedb.get('version') == '1', 'Unsupported Version'\n",
    "assert payload['period1'] < payload['period2'], '\\'End\\' date must be before \\'Start\\' date'\n",
    "assert payload['period2'] < datetime.timestamp(datetime.today()), '\\'End\\' date must be in the past'"
   ]
  },
  {
   "cell_type": "code",
   "execution_count": 10,
   "metadata": {
    "ExecuteTime": {
     "end_time": "2024-03-19T23:49:23.379196329Z",
     "start_time": "2024-03-19T23:48:32.176872205Z"
    }
   },
   "outputs": [
    {
     "name": "stdout",
     "output_type": "stream",
     "text": [
      "Patch completed.\n"
     ]
    }
   ],
   "source": [
    "hist = []\n",
    "template = pricedb.price\n",
    "for stock in portfolio:\n",
    "    data = pd.read_csv(f'{root_url}{stock[\"SYM\"]}?{urlencode(payload)}')\n",
    "    \n",
    "    for date, price in zip(data[\"Date\"], data[\"Close\"]):\n",
    "        record = copy(template)  \n",
    "        record.find('price:id').string = str(uuid.uuid4()).replace('-', '')\n",
    "        record.find('cmdty:id').string = stock['SYM']\n",
    "        record.find('cmdty:space').string = stock['XCHG']\n",
    "        record.find('ts:date').string = f'{date} 17:00:00 +0000'\n",
    "        record.find('price:value').string = f'{int(price * unit_sz)}/{unit_sz}'\n",
    "   \n",
    "        hist.append(record)\n",
    "\n",
    "old_data = [datum.extract() for datum in pricedb.findAll('price')]\n",
    "\n",
    "for entry in hist:\n",
    "    pricedb.append(entry)\n",
    "\n",
    "book.findAll('gnc:count-data', {'cd:type' : 'price'}).string = len(hist)\n",
    "assert len([item for item in pricedb.find_all('price')]) == len(hist)    \n",
    "\n",
    "if compressed:\n",
    "    with gzip.open(target, 'w') as buff:\n",
    "        buff.write(bytes(str(book), 'UTF-8'))\n",
    "else:\n",
    "    with open(target, \"w\") as buff:\n",
    "        buff.write(str(book))\n",
    "print(\"Patch completed.\")"
   ]
  },
  {
   "cell_type": "code",
   "outputs": [
    {
     "data": {
      "text/plain": "'foo'"
     },
     "execution_count": 11,
     "metadata": {},
     "output_type": "execute_result"
    }
   ],
   "source": [
    "'foo'"
   ],
   "metadata": {
    "collapsed": false,
    "ExecuteTime": {
     "end_time": "2024-03-19T23:50:04.124397404Z",
     "start_time": "2024-03-19T23:50:04.107388749Z"
    }
   },
   "execution_count": 11
  },
  {
   "cell_type": "code",
   "outputs": [],
   "source": [],
   "metadata": {
    "collapsed": false
   }
  }
 ],
 "metadata": {
  "kernel_info": {
   "name": "gnucash-historical-price-data"
  },
  "kernelspec": {
   "display_name": "Python 3 (ipykernel)",
   "language": "python",
   "name": "python3"
  },
  "language_info": {
   "codemirror_mode": {
    "name": "ipython",
    "version": 3
   },
   "file_extension": ".py",
   "mimetype": "text/x-python",
   "name": "python",
   "nbconvert_exporter": "python",
   "pygments_lexer": "ipython3",
   "version": "3.10.12"
  },
  "nteract": {
   "version": "0.15.0"
  }
 },
 "nbformat": 4,
 "nbformat_minor": 4
}
